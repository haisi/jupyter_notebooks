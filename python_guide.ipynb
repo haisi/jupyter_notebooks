{
 "cells": [
  {
   "cell_type": "markdown",
   "metadata": {},
   "source": [
    "An intro to Python and common ML/NLP libraries\n",
    "==="
   ]
  },
  {
   "cell_type": "markdown",
   "metadata": {},
   "source": [
    "# Pyhton Basics"
   ]
  },
  {
   "cell_type": "markdown",
   "metadata": {},
   "source": [
    "## Numbers & Booleans"
   ]
  },
  {
   "cell_type": "code",
   "execution_count": 16,
   "metadata": {},
   "outputs": [
    {
     "name": "stdout",
     "output_type": "stream",
     "text": [
      "3.0\n",
      "<class 'float'>\n",
      "\n",
      "-- arithmetic operators --\n",
      "4.0\n",
      "2.0\n",
      "3.0\n",
      "3.0\n",
      "\n",
      "-- int devision --\n",
      "1.75\n",
      "<class 'float'>\n",
      "\n",
      "-- Booleans --\n",
      "False\n",
      "True\n",
      "False\n",
      "True\n"
     ]
    },
    {
     "data": {
      "text/plain": [
       "bool"
      ]
     },
     "execution_count": 16,
     "metadata": {},
     "output_type": "execute_result"
    }
   ],
   "source": [
    "# Floats\n",
    "x = 3.\n",
    "print(x)\n",
    "\n",
    "xType = type(x)\n",
    "print(xType)\n",
    "\n",
    "# arithmetic operators\n",
    "print(\"\\n-- arithmetic operators --\")\n",
    "print(x+1)\n",
    "print(x-1)\n",
    "print(x*1)\n",
    "print(x**1)\n",
    "\n",
    "# int devision automically to float\n",
    "print(\"\\n-- int devision --\")\n",
    "int1 = 7\n",
    "int2 = 4\n",
    "result = int1 / int2\n",
    "print(result)\n",
    "print(type(result))\n",
    "\n",
    "# boolean\n",
    "print(\"\\n-- Booleans --\")\n",
    "t = True\n",
    "f = False\n",
    "print(t and f)\n",
    "print(t or f)\n",
    "print(not t)\n",
    "print(t != f)\n",
    "type(t)"
   ]
  },
  {
   "cell_type": "markdown",
   "metadata": {},
   "source": [
    "## Strings"
   ]
  },
  {
   "cell_type": "code",
   "execution_count": 29,
   "metadata": {},
   "outputs": [
    {
     "name": "stdout",
     "output_type": "stream",
     "text": [
      "\n",
      "-- String concatination --\n",
      "hithere!\n",
      "hi there!\n",
      "hi there! third\n",
      "\n",
      "-- String formatting --\n",
      "Hi\n",
      "A  watermelon is a  fruit . \n"
     ]
    }
   ],
   "source": [
    "# String concatination\n",
    "print(\"\\n-- String concatination --\")\n",
    "hello = 'hi'\n",
    "world = 'there!'\n",
    "print(hello+world)\n",
    "print(hello,world) # specific for print\n",
    "print(' '.join([hello, world, 'third'])) # join list of string on a space\n",
    "\n",
    "# String formatting\n",
    "print(\"\\n-- String formatting --\")\n",
    "print(hello.capitalize())\n",
    "print('A {obj} is a {group} . ' . format(obj=' watermelon' , group=' fruit' ))"
   ]
  },
  {
   "cell_type": "markdown",
   "metadata": {},
   "source": [
    "## Objects"
   ]
  },
  {
   "cell_type": "code",
   "execution_count": 24,
   "metadata": {},
   "outputs": [
    {
     "name": "stdout",
     "output_type": "stream",
     "text": [
      "__add__, __class__, __contains__, __delattr__, __dir__, __doc__, __eq__, __format__, __ge__, __getattribute__, __getitem__, __getnewargs__, __gt__, __hash__, __init__, __init_subclass__, __iter__, __le__, __len__, __lt__, __mod__, __mul__, __ne__, __new__, __reduce__, __reduce_ex__, __repr__, __rmod__, __rmul__, __setattr__, __sizeof__, __str__, __subclasshook__, capitalize, casefold, center, count, encode, endswith, expandtabs, find, format, format_map, index, isalnum, isalpha, isdecimal, isdigit, isidentifier, islower, isnumeric, isprintable, isspace, istitle, isupper, join, ljust, lower, lstrip, maketrans, partition, replace, rfind, rindex, rjust, rpartition, rsplit, rstrip, split, splitlines, startswith, strip, swapcase, title, translate, upper, zfill\n"
     ]
    },
    {
     "data": {
      "text/plain": [
       "str"
      ]
     },
     "execution_count": 24,
     "metadata": {},
     "output_type": "execute_result"
    }
   ],
   "source": [
    "# Everything is an object and has Methods and Attributes\n",
    "print(', '.join(dir('foo'))) # attempt to return a list of valid attributes for that object.\n",
    "type(dir('foo'))\n",
    "type(dir('foo')[0])"
   ]
  },
  {
   "cell_type": "markdown",
   "metadata": {},
   "source": [
    "## Lists"
   ]
  },
  {
   "cell_type": "code",
   "execution_count": 34,
   "metadata": {},
   "outputs": [
    {
     "name": "stdout",
     "output_type": "stream",
     "text": [
      "[' b', ' sali']\n",
      "99.0\n",
      "[1, ' b']\n",
      "[' sali', 99.0]\n"
     ]
    }
   ],
   "source": [
    "# Lists\n",
    "a = [ 1, ' b' , ' hoi' , 99. ]\n",
    "a[ 2] = ' sali' # index start at 0\n",
    "print(a[ 1: 3]) # index starts at 0\n",
    "print(a[ -1]) # start from the back\n",
    "print(a[:2]) # First 2 elements. NOT BY INDEX!\n",
    "print(a[2:]) # Last 2 elements. NOT BY INDEX!"
   ]
  }
 ],
 "metadata": {
  "kernelspec": {
   "display_name": "Python 3",
   "language": "python",
   "name": "python3"
  },
  "language_info": {
   "codemirror_mode": {
    "name": "ipython",
    "version": 3
   },
   "file_extension": ".py",
   "mimetype": "text/x-python",
   "name": "python",
   "nbconvert_exporter": "python",
   "pygments_lexer": "ipython3",
   "version": "3.6.4"
  }
 },
 "nbformat": 4,
 "nbformat_minor": 2
}
